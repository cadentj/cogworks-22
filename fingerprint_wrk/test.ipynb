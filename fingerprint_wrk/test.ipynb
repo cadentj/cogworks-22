{
 "cells": [],
 "metadata": {
  "kernelspec": {
   "display_name": "Python 3.8.13 ('week1')",
   "language": "python",
   "name": "python3"
  },
  "language_info": {
   "codemirror_mode": {
    "name": "ipython",
    "version": 3
   },
   "file_extension": ".py",
   "mimetype": "text/x-python",
   "name": "python",
   "nbconvert_exporter": "python",
   "pygments_lexer": "ipython3",
   "version": "3.8.13"
  },
  "orig_nbformat": 4,
  "vscode": {
   "interpreter": {
    "hash": "087f15f29c2070675add9e1fe829f93a0d5cc805101e1a251d473c63a017c9ce"
   }
  }
 },
 "nbformat": 4,
 "nbformat_minor": 2
}
