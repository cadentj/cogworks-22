{
 "cells": [
  {
   "cell_type": "code",
   "execution_count": 1,
   "metadata": {},
   "outputs": [
    {
     "ename": "ImportError",
     "evalue": "cannot import name 'db' from 'song_recog' (C:\\anaconda3\\envs\\week1\\lib\\site-packages\\song_recog\\__init__.py)",
     "output_type": "error",
     "traceback": [
      "\u001b[1;31m---------------------------------------------------------------------------\u001b[0m",
      "\u001b[1;31mImportError\u001b[0m                               Traceback (most recent call last)",
      "Input \u001b[1;32mIn [1]\u001b[0m, in \u001b[0;36m<cell line: 10>\u001b[1;34m()\u001b[0m\n\u001b[0;32m      7\u001b[0m \u001b[38;5;28;01mimport\u001b[39;00m \u001b[38;5;21;01mlibrosa\u001b[39;00m\n\u001b[0;32m      8\u001b[0m \u001b[38;5;28;01mfrom\u001b[39;00m \u001b[38;5;21;01mpathlib\u001b[39;00m \u001b[38;5;28;01mimport\u001b[39;00m Path \n\u001b[1;32m---> 10\u001b[0m \u001b[38;5;28;01mfrom\u001b[39;00m \u001b[38;5;21;01msong_recog\u001b[39;00m \u001b[38;5;28;01mimport\u001b[39;00m peaks, fanout, db, match\n",
      "\u001b[1;31mImportError\u001b[0m: cannot import name 'db' from 'song_recog' (C:\\anaconda3\\envs\\week1\\lib\\site-packages\\song_recog\\__init__.py)"
     ]
    }
   ],
   "source": [
    "import numpy as np\n",
    "import matplotlib.pyplot as plt\n",
    "import matplotlib.mlab as mlab\n",
    "from typing import Tuple, Sequence\n",
    "import os \n",
    "import pickle\n",
    "import librosa\n",
    "from pathlib import Path \n",
    "\n",
    "from song_recog import peaks, fanout, db, match"
   ]
  },
  {
   "cell_type": "code",
   "execution_count": null,
   "metadata": {},
   "outputs": [],
   "source": [
    "filepaths = [\"audio/data/champagne.mp3\", \"audio/data/closure.mp3\", \"audio/data/coney.mp3\", \"audio/data/cowboy.mp3\",\n",
    "             \"audio/data/crime.mp3\", \"audio/data/damn.mp3\", \"audio/data/dorothea.mp3\", \"audio/data/evermore.mp3\",\n",
    "            \"audio/data/gold.mp3\", \"audio/data/happiness.mp3\", \"audio/data/ivy.mp3\", \"audio/data/longstory.mp3\",\n",
    "            \"audio/data/marjorie.mp3\", \"audio/data/tolerate.mp3\", \"audio/data/willow.mp3\"]\n",
    "\n",
    "database_fps = []\n",
    "\n",
    "for path in filepaths :\n",
    "    database_audio, sampling_rate = librosa.load(path, sr=44100, mono=True)\n",
    "\n",
    "    spec, freqs, times = mlab.specgram(\n",
    "        database_audio,\n",
    "        NFFT=4096,\n",
    "        Fs=sampling_rate,\n",
    "        window=mlab.window_hanning,\n",
    "        noverlap=int(4096 / 2)\n",
    "    )\n",
    "\n",
    "    fan = fanout(peaks(spec), 15)\n",
    "    \n",
    "    database_fps.append(fan)\n",
    "    print(\"saved \" + path)\n",
    "\n",
    "\n",
    "np.save(\"song_fps.npy\", database_fps)"
   ]
  },
  {
   "cell_type": "code",
   "execution_count": null,
   "metadata": {},
   "outputs": [],
   "source": [
    "song_fps = np.load(\"song_fps.npy\", allow_pickle=True)"
   ]
  },
  {
   "cell_type": "code",
   "execution_count": null,
   "metadata": {},
   "outputs": [],
   "source": [
    "from microphone import record_audio\n",
    "\n",
    "listen_time = 5  # <COGSTUB> seconds\n",
    "recorded_audio_frames, sampling_rate  = record_audio(listen_time)  # <COGSTUB> record audio for the listen time\n",
    "recorded_audio = np.hstack([np.frombuffer(i, np.int16) for i in recorded_audio_frames]) "
   ]
  },
  {
   "cell_type": "code",
   "execution_count": null,
   "metadata": {},
   "outputs": [],
   "source": [
    "spec_two, freqs, times = mlab.specgram(\n",
    "    recorded_audio,\n",
    "    NFFT=4096,\n",
    "    Fs=sampling_rate,\n",
    "    window=mlab.window_hanning,\n",
    "    noverlap=int(4096 / 2)\n",
    ")"
   ]
  },
  {
   "cell_type": "code",
   "execution_count": null,
   "metadata": {},
   "outputs": [],
   "source": [
    "def load_songs():\n",
    "    arr = [\"champagne\", \"closure\", \"coney\", \"cowboy\",\n",
    "             \"crime\", \"damn\", \"dorothea\", \"evermore\",\n",
    "            \"gold\", \"happiness\", \"ivy\", \"longstory\",\n",
    "            \"marjorie\", \"tolerate\", \"willow\"]\n",
    "    songs = {}\n",
    "    \n",
    "    counter = 0;\n",
    "    \n",
    "    for i in range(len(arr)):\n",
    "        songs[arr[counter]] = (counter, \"Taylor Swift\")\n",
    "        counter+=1\n",
    "        \n",
    "    return songs\n",
    "\n",
    "\n",
    "songs=load_songs()"
   ]
  },
  {
   "cell_type": "code",
   "execution_count": null,
   "metadata": {},
   "outputs": [],
   "source": [
    "database = {}\n",
    "\n",
    "for i in range(len(songs)):\n",
    "    \n",
    "    \n",
    "    fingerprint_data = song_fps[i]\n",
    "    fingerprints = fingerprint_data[0]\n",
    "    peak_times = fingerprint_data[1]\n",
    "\n",
    "\n",
    "    song_name = list(songs)[i]\n",
    "    add_to_database(fingerprints, peak_times, song_name, database, songs)"
   ]
  }
 ],
 "metadata": {
  "kernelspec": {
   "display_name": "Python 3 (ipykernel)",
   "language": "python",
   "name": "python3"
  },
  "language_info": {
   "codemirror_mode": {
    "name": "ipython",
    "version": 3
   },
   "file_extension": ".py",
   "mimetype": "text/x-python",
   "name": "python",
   "nbconvert_exporter": "python",
   "pygments_lexer": "ipython3",
   "version": "3.8.13"
  },
  "vscode": {
   "interpreter": {
    "hash": "087f15f29c2070675add9e1fe829f93a0d5cc805101e1a251d473c63a017c9ce"
   }
  }
 },
 "nbformat": 4,
 "nbformat_minor": 2
}
