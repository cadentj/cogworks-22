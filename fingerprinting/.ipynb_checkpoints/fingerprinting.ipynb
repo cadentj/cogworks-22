{
 "cells": [
  {
   "cell_type": "code",
   "execution_count": null,
   "metadata": {},
   "outputs": [],
   "source": []
  }
 ],
 "metadata": {
  "kernelspec": {
   "display_name": "Python 3.10.4 ('bwsi')",
   "language": "python",
   "name": "python3"
  },
  "language_info": {
   "name": "python",
   "version": "3.10.4"
  },
  "orig_nbformat": 4,
  "vscode": {
   "interpreter": {
    "hash": "d07247953325bbf37589e644851be790642d22e696354b6e1de6d7e6aaf1fae2"
   }
  }
 },
 "nbformat": 4,
 "nbformat_minor": 2
}
