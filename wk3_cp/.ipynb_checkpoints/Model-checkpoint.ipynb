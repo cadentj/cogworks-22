{
 "cells": [
  {
   "cell_type": "code",
   "execution_count": null,
   "id": "1c7017cd",
   "metadata": {},
   "outputs": [],
   "source": [
    "import numpy as np\n",
    "import mygrad as mg\n",
    "from mygrad import Tensor\n",
    "\n",
    "from noggin import create_plot\n",
    "import matplotlib.pyplot as plt\n",
    "\n",
    "%matplotlib inline"
   ]
  },
  {
   "cell_type": "code",
   "execution_count": null,
   "id": "b281da75",
   "metadata": {},
   "outputs": [],
   "source": [
    "from mynn.layers.dense import dense\n",
    "from mygrad.nnet.initializers import glorot_uniform"
   ]
  },
  {
   "cell_type": "code",
   "execution_count": null,
   "id": "a5ceb70f",
   "metadata": {},
   "outputs": [],
   "source": [
    "class Model:\n",
    "\n",
    "    def __init__(self, D_input=512, D_glove=200):\n",
    "        self.dense1 = dense(D_input, D_glove, weight_initializer=glorot_normal) \n",
    "\n",
    "    def __call__(self, x):\n",
    "        return self.dense1(x)\n",
    "\n",
    "    @property\n",
    "    def parameters(self):\n",
    "        return self.dense1.parameters"
   ]
  },
  {
   "cell_type": "code",
   "execution_count": null,
   "id": "0dbf6ef0",
   "metadata": {},
   "outputs": [],
   "source": [
    "from mynn.optimizers.sgd import SGD\n",
    "from mygrad.nnet.losses import margin_ranking_loss\n",
    "\n",
    "optim = SGD(model.parameters, learning_rate=1e-3, momentum=0.9)"
   ]
  },
  {
   "cell_type": "code",
   "execution_count": 1,
   "id": "6fdb1a20",
   "metadata": {},
   "outputs": [
    {
     "ename": "SyntaxError",
     "evalue": "invalid syntax (4090296465.py, line 2)",
     "output_type": "error",
     "traceback": [
      "\u001b[1;36m  Input \u001b[1;32mIn [1]\u001b[1;36m\u001b[0m\n\u001b[1;33m    |caption2, confusion_image, truth_image|\u001b[0m\n\u001b[1;37m    ^\u001b[0m\n\u001b[1;31mSyntaxError\u001b[0m\u001b[1;31m:\u001b[0m invalid syntax\n"
     ]
    }
   ],
   "source": [
    "# (1,200)       (1,512)          (1,512)\n",
    "\n",
    "# [caption1, confusion_image, truth_image]\n",
    "# |caption2, confusion_image, truth_image|\n",
    "# [caption3, confusion_image, truth_image]"
   ]
  },
  {
   "cell_type": "code",
   "execution_count": null,
   "id": "20367d84",
   "metadata": {},
   "outputs": [],
   "source": [
    "def accuracy(prediction_truth, prediction_confusion, truth_caption):\n",
    "    truth_count = np.count_nonzero(np.dot(prediction_truth, truth_caption) > np.dot(prediction_confusion, truth_caption))\n",
    "    return truth_count / len(truth_caption)"
   ]
  },
  {
   "cell_type": "code",
   "execution_count": null,
   "id": "6ea4c8dd",
   "metadata": {},
   "outputs": [],
   "source": [
    "batch_size = 32\n",
    "num_epochs = 1\n",
    "\n",
    "model = Model(512, 200)\n",
    "\n",
    "for epoch_cnt in range(num_epochs):\n",
    "    idxs = np.arange(len(train)) \n",
    "    np.random.shuffle(idxs)\n",
    "\n",
    "    for batch_cnt in range(len(train) // batch_size):\n",
    "        batch_indices = idxs[batch_cnt * batch_size : (batch_cnt + 1) * batch_size]\n",
    "        \n",
    "        # captions\n",
    "        truth_caption_ID = train[batch_indices][0]\n",
    "        truth_caption = truth_caption[truth_caption_ID]\n",
    "        #image and confusion\n",
    "        truth_image = train[batch_indices][1]\n",
    "        confusion = train[batch_indices][2]\n",
    "        \n",
    "        prediction_truth = model(truth_image)  \n",
    "        prediction_confusion = model(confusion)\n",
    "        \n",
    "        sim_truth = np.dot(prediction_truth, truth_caption)\n",
    "        sim_confusion =  np.dot(prediction_confusion, truth_caption)\n",
    "        \n",
    "        # add einsum \n",
    "        loss = margin_ranking_loss(sim_truth, sim_confusion, truth_caption, margin=0.25) \n",
    "\n",
    "        loss.backward() \n",
    "\n",
    "        optim.step() \n",
    "\n",
    "        acc = accuracy(prediction_truth, prediction_confusion, truth_caption)\n",
    "        \n",
    "        plotter.set_train_batch(\n",
    "            {\"loss\": loss.item(), \"accuracy\": acc}, batch_size=batch_size\n",
    "        )\n",
    "        \n",
    "    for batch_cnt in range(0, len(x_test) // batch_size):\n",
    "        idxs = np.arange(len(x_test))\n",
    "        batch_indices = idxs[batch_cnt * batch_size : (batch_cnt + 1) * batch_size] \n",
    "        batch = x_test[batch_indices]\n",
    "\n",
    "        with mg.no_autodiff:\n",
    "            # captions\n",
    "            truth_caption_ID = test[batch_indices][0]\n",
    "            truth_caption = truth_caption[truth_caption_ID]\n",
    "            #image and confusion\n",
    "            truth_image = test[batch_indices][1]\n",
    "            confusion = test[batch_indices][2]\n",
    "\n",
    "            prediction_truth = model(truth_image)  \n",
    "            prediction_confusion = model(confusion)\n",
    "            \n",
    "            acc = accuracy(prediction_truth, prediction_confusion, truth_caption)\n",
    "\n",
    "        plotter.set_test_batch({\"accuracy\": acc}, batch_size=batch_size)\n",
    "\n",
    "    plotter.set_train_epoch()\n",
    "    plotter.set_test_epoch()\n",
    "plotter.plot()"
   ]
  }
 ],
 "metadata": {
  "kernelspec": {
   "display_name": "Python 3 (ipykernel)",
   "language": "python",
   "name": "python3"
  },
  "language_info": {
   "codemirror_mode": {
    "name": "ipython",
    "version": 3
   },
   "file_extension": ".py",
   "mimetype": "text/x-python",
   "name": "python",
   "nbconvert_exporter": "python",
   "pygments_lexer": "ipython3",
   "version": "3.8.13"
  }
 },
 "nbformat": 4,
 "nbformat_minor": 5
}
