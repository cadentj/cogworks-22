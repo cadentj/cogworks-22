{
 "cells": [
  {
   "cell_type": "code",
   "execution_count": null,
   "id": "848cb45e",
   "metadata": {},
   "outputs": [],
   "source": [
    "import numpy as np\n",
    "import mygrad as mg\n",
    "from mygrad import Tensor\n",
    "\n",
    "from noggin import create_plot\n",
    "import matplotlib.pyplot as plt\n",
    "\n",
    "%matplotlib inline"
   ]
  },
  {
   "cell_type": "code",
   "execution_count": null,
   "id": "28fc9d61",
   "metadata": {},
   "outputs": [],
   "source": [
    "from mynn.layers.dense import dense\n",
    "from mygrad.nnet.initializers import glorot_uniform"
   ]
  },
  {
   "cell_type": "code",
   "execution_count": null,
   "id": "47b8982c",
   "metadata": {},
   "outputs": [],
   "source": [
    "class Model:\n",
    "\n",
    "    def __init__(self, D_glove=200, D_input=512):\n",
    "        self.dense1 = dense(D_input, D_glove, weight_initializer=glorot_normal) \n",
    "\n",
    "    def __call__(self, x):\n",
    "        return self.dense1(x)\n",
    "\n",
    "    @property\n",
    "    def parameters(self):\n",
    "        return self.dense1.parameters"
   ]
  },
  {
   "cell_type": "code",
   "execution_count": null,
   "id": "89acad56",
   "metadata": {},
   "outputs": [],
   "source": [
    "from mynn.optimizers.sgd import SGD\n",
    "from mygrad.nnet.losses import margin_ranking_loss\n",
    "\n",
    "optim = SGD(model.parameters, learning_rate=1e-3, momentum=0.9)"
   ]
  },
  {
   "cell_type": "code",
   "execution_count": null,
   "id": "dae2eef5",
   "metadata": {},
   "outputs": [],
   "source": [
    "batch_size = 32\n",
    "num_epochs = 500\n",
    "\n",
    "for epoch_cnt in range(num_epochs):\n",
    "    idxs = np.arange(len(x_train)) \n",
    "    np.random.shuffle(idxs)\n",
    "\n",
    "    for batch_cnt in range(len(x_train) // batch_size):\n",
    "        batch_indices = idxs[batch_cnt * batch_size : (batch_cnt + 1) * batch_size]\n",
    "        \n",
    "        batch = x_train[batch_indices] \n",
    "        truth = y_train[batch_indices] \n",
    "\n",
    "        prediction_truth = model(batch)  \n",
    "        prediction_confusion = model()\n",
    "        \n",
    "        loss = margin_ranking_loss(prediction_truth, prediction_confusion, glove, margin=0.25) \n",
    "\n",
    "        loss.backward() \n",
    "\n",
    "        optim.step() \n",
    "\n",
    "        acc = accuracy(prediction, truth)"
   ]
  }
 ],
 "metadata": {
  "kernelspec": {
   "display_name": "Python 3 (ipykernel)",
   "language": "python",
   "name": "python3"
  },
  "language_info": {
   "codemirror_mode": {
    "name": "ipython",
    "version": 3
   },
   "file_extension": ".py",
   "mimetype": "text/x-python",
   "name": "python",
   "nbconvert_exporter": "python",
   "pygments_lexer": "ipython3",
   "version": "3.8.13"
  }
 },
 "nbformat": 4,
 "nbformat_minor": 5
}
