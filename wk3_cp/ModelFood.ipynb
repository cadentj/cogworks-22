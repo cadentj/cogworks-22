{
 "cells": [
  {
   "cell_type": "code",
   "execution_count": 6,
   "id": "034da65e",
   "metadata": {},
   "outputs": [],
   "source": [
    "import numpy as np\n",
    "from sklearn.model_selection import train_test_split"
   ]
  },
  {
   "cell_type": "code",
   "execution_count": 7,
   "id": "dc188ae4",
   "metadata": {},
   "outputs": [],
   "source": [
    "def datasplit(X):\n",
    "  X_train, X_test = train_test_split(X, train_size=0.8, random_state=50)\n",
    "  return (X_train, X_test)"
   ]
  },
  {
   "cell_type": "code",
   "execution_count": 8,
   "id": "cce5b0b6",
   "metadata": {},
   "outputs": [],
   "source": [
    "\n",
    "#done!\n",
    "def generateTriples(imglist, img2captions):\n",
    "  ret = []\n",
    "  for img in imglist:\n",
    "    for caption in img2captions[img]:\n",
    "      fake = np.random.choice(imglist)\n",
    "      while (fake == img):\n",
    "        fake = np.random.choice(imglist)\n",
    "      ret.append((caption, img, fake))\n",
    "  return ret\n",
    "\n",
    "\n"
   ]
  },
  {
   "cell_type": "code",
   "execution_count": 9,
   "id": "c6e6686d",
   "metadata": {},
   "outputs": [
    {
     "name": "stdout",
     "output_type": "stream",
     "text": [
      "[(1, 2, 1), (2, 2, 4), (3, 2, 1), (6, 4, 1), (100, 1, 4), (200, 1, 2), (300, 1, 4)]\n"
     ]
    }
   ],
   "source": [
    "\n",
    "img2captions = {1: [100, 200, 300], 2: [1,2,3], 3:[4,5], 4:[6]}\n",
    "imglist = [1,2,3,4]\n",
    "train, test = datasplit(imglist)\n",
    "hehe = generateTriples(train, img2captions)\n",
    "print(hehe)"
   ]
  },
  {
   "cell_type": "code",
   "execution_count": null,
   "id": "10273888",
   "metadata": {},
   "outputs": [],
   "source": []
  }
 ],
 "metadata": {
  "kernelspec": {
   "display_name": "Python 3 (ipykernel)",
   "language": "python",
   "name": "python3"
  },
  "language_info": {
   "codemirror_mode": {
    "name": "ipython",
    "version": 3
   },
   "file_extension": ".py",
   "mimetype": "text/x-python",
   "name": "python",
   "nbconvert_exporter": "python",
   "pygments_lexer": "ipython3",
   "version": "3.8.13"
  }
 },
 "nbformat": 4,
 "nbformat_minor": 5
}
