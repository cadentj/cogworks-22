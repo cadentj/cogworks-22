{
 "cells": [
  {
   "cell_type": "code",
   "execution_count": 1,
   "id": "ae84c880",
   "metadata": {},
   "outputs": [],
   "source": [
    "import numpy as np\n",
    "import mygrad as mg\n",
    "from mygrad import Tensor\n",
    "\n",
    "from noggin import create_plot\n",
    "import matplotlib.pyplot as plt\n",
    "\n",
    "%matplotlib notebook"
   ]
  },
  {
   "cell_type": "code",
   "execution_count": 7,
   "id": "e0f919b4",
   "metadata": {},
   "outputs": [],
   "source": [
    "import pickle\n",
    "\n",
    "weights = np.load(\"weights.npy\")\n",
    "bias = np.load(\"bias.npy\")"
   ]
  },
  {
   "cell_type": "code",
   "execution_count": 4,
   "id": "596e19f7",
   "metadata": {},
   "outputs": [],
   "source": [
    "from mynn.layers.dense import dense\n",
    "from mygrad.nnet.initializers import glorot_uniform"
   ]
  },
  {
   "cell_type": "code",
   "execution_count": 10,
   "id": "39493a54",
   "metadata": {},
   "outputs": [],
   "source": [
    "class Model:\n",
    "\n",
    "    def __init__(self, D_input=512, D_glove=200):\n",
    "        self.dense1 = dense(D_input, D_glove, weight_initializer=glorot_uniform, weight_kwargs=weights, bias_kwargs=bias) \n",
    "\n",
    "    def __call__(self, x):\n",
    "        output = self.dense1(x)\n",
    "        return output/mg.linalg.norm(output, axis = 1, keepdims = True)\n",
    "\n",
    "    @property\n",
    "    def parameters(self):\n",
    "        return self.dense1.parameters"
   ]
  }
 ],
 "metadata": {
  "kernelspec": {
   "display_name": "Python 3 (ipykernel)",
   "language": "python",
   "name": "python3"
  },
  "language_info": {
   "codemirror_mode": {
    "name": "ipython",
    "version": 3
   },
   "file_extension": ".py",
   "mimetype": "text/x-python",
   "name": "python",
   "nbconvert_exporter": "python",
   "pygments_lexer": "ipython3",
   "version": "3.8.13"
  }
 },
 "nbformat": 4,
 "nbformat_minor": 5
}
