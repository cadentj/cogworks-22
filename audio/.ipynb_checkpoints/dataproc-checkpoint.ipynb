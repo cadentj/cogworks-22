{
 "cells": [
  {
   "cell_type": "code",
   "execution_count": 4,
   "metadata": {},
   "outputs": [],
   "source": [
    "import os\n",
    "path = os.getcwd() + \"/data\"\n",
    "music = os.listdir(path)"
   ]
  },
  {
   "cell_type": "code",
   "execution_count": 5,
   "metadata": {},
   "outputs": [
    {
     "data": {
      "text/plain": [
       "['.DS_Store',\n",
       " 'tolerate.mp3',\n",
       " 'crime.mp3',\n",
       " 'gold.mp3',\n",
       " 'champagne.mp3',\n",
       " 'damn.mp3',\n",
       " 'happiness.mp3',\n",
       " 'cowboy.mp3',\n",
       " 'evermore.mp3',\n",
       " 'ivy.mp3',\n",
       " 'willow.mp3',\n",
       " 'marjorie.mp3',\n",
       " 'dorothea.mp3',\n",
       " 'closure.mp3',\n",
       " 'coney.mp3',\n",
       " 'longstory.mp3']"
      ]
     },
     "execution_count": 5,
     "metadata": {},
     "output_type": "execute_result"
    }
   ],
   "source": [
    "music"
   ]
  },
  {
   "cell_type": "code",
   "execution_count": null,
   "metadata": {},
   "outputs": [],
   "source": []
  }
 ],
 "metadata": {
  "kernelspec": {
   "display_name": "Python 3 (ipykernel)",
   "language": "python",
   "name": "python3"
  },
  "language_info": {
   "codemirror_mode": {
    "name": "ipython",
    "version": 3
   },
   "file_extension": ".py",
   "mimetype": "text/x-python",
   "name": "python",
   "nbconvert_exporter": "python",
   "pygments_lexer": "ipython3",
   "version": "3.8.13"
  }
 },
 "nbformat": 4,
 "nbformat_minor": 1
}
