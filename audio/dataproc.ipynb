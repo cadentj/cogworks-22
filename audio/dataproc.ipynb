{
 "cells": [
  {
   "cell_type": "code",
   "execution_count": 3,
   "metadata": {},
   "outputs": [],
   "source": [
    "# run this cell (maybe twice to get %matplotlib notebook to work)\n",
    "import numpy as np\n",
    "import matplotlib.pyplot as plt\n",
    "import matplotlib.mlab as mlab\n",
    "from microphone import record_audio\n",
    "from typing import Tuple\n",
    "from typing import Union, Tuple, Sequence\n",
    "from pathlib import Path\n",
    "import os\n",
    "%matplotlib notebook"
   ]
  },
  {
   "cell_type": "code",
   "execution_count": 4,
   "metadata": {},
   "outputs": [],
   "source": [
    "def getFiles() -> Sequence[str]:\n",
    "    path = Path.cwd() / \"data\"\n",
    "    music = os.listdir(path)\n",
    "    array = [os.path.join(path,item) for item in music if item[-4:]==\".mp3\"]\n",
    "    return array\n"
   ]
  },
  {
   "cell_type": "code",
   "execution_count": 5,
   "metadata": {},
   "outputs": [],
   "source": [
    "array = getFiles()"
   ]
  },
  {
   "cell_type": "code",
   "execution_count": 6,
   "metadata": {},
   "outputs": [
    {
     "data": {
      "text/plain": [
       "['/Users/shiftyblock/Documents/GitHub/ryan-sus/audio/data/tolerate.mp3',\n",
       " '/Users/shiftyblock/Documents/GitHub/ryan-sus/audio/data/crime.mp3',\n",
       " '/Users/shiftyblock/Documents/GitHub/ryan-sus/audio/data/gold.mp3',\n",
       " '/Users/shiftyblock/Documents/GitHub/ryan-sus/audio/data/champagne.mp3',\n",
       " '/Users/shiftyblock/Documents/GitHub/ryan-sus/audio/data/damn.mp3',\n",
       " '/Users/shiftyblock/Documents/GitHub/ryan-sus/audio/data/happiness.mp3',\n",
       " '/Users/shiftyblock/Documents/GitHub/ryan-sus/audio/data/cowboy.mp3',\n",
       " '/Users/shiftyblock/Documents/GitHub/ryan-sus/audio/data/evermore.mp3',\n",
       " '/Users/shiftyblock/Documents/GitHub/ryan-sus/audio/data/ivy.mp3',\n",
       " '/Users/shiftyblock/Documents/GitHub/ryan-sus/audio/data/willow.mp3',\n",
       " '/Users/shiftyblock/Documents/GitHub/ryan-sus/audio/data/marjorie.mp3',\n",
       " '/Users/shiftyblock/Documents/GitHub/ryan-sus/audio/data/dorothea.mp3',\n",
       " '/Users/shiftyblock/Documents/GitHub/ryan-sus/audio/data/closure.mp3',\n",
       " '/Users/shiftyblock/Documents/GitHub/ryan-sus/audio/data/coney.mp3',\n",
       " '/Users/shiftyblock/Documents/GitHub/ryan-sus/audio/data/longstory.mp3']"
      ]
     },
     "execution_count": 6,
     "metadata": {},
     "output_type": "execute_result"
    }
   ],
   "source": []
  },
  {
   "cell_type": "code",
   "execution_count": 7,
   "metadata": {},
   "outputs": [
    {
     "name": "stderr",
     "output_type": "stream",
     "text": [
      "/Users/shiftyblock/opt/anaconda3/envs/week1/lib/python3.8/site-packages/librosa/util/decorators.py:88: UserWarning: PySoundFile failed. Trying audioread instead.\n",
      "  return f(*args, **kwargs)\n",
      "/Users/shiftyblock/opt/anaconda3/envs/week1/lib/python3.8/site-packages/librosa/util/decorators.py:88: UserWarning: PySoundFile failed. Trying audioread instead.\n",
      "  return f(*args, **kwargs)\n",
      "/Users/shiftyblock/opt/anaconda3/envs/week1/lib/python3.8/site-packages/librosa/util/decorators.py:88: UserWarning: PySoundFile failed. Trying audioread instead.\n",
      "  return f(*args, **kwargs)\n",
      "/Users/shiftyblock/opt/anaconda3/envs/week1/lib/python3.8/site-packages/librosa/util/decorators.py:88: UserWarning: PySoundFile failed. Trying audioread instead.\n",
      "  return f(*args, **kwargs)\n",
      "/Users/shiftyblock/opt/anaconda3/envs/week1/lib/python3.8/site-packages/librosa/util/decorators.py:88: UserWarning: PySoundFile failed. Trying audioread instead.\n",
      "  return f(*args, **kwargs)\n",
      "/Users/shiftyblock/opt/anaconda3/envs/week1/lib/python3.8/site-packages/librosa/util/decorators.py:88: UserWarning: PySoundFile failed. Trying audioread instead.\n",
      "  return f(*args, **kwargs)\n",
      "/Users/shiftyblock/opt/anaconda3/envs/week1/lib/python3.8/site-packages/librosa/util/decorators.py:88: UserWarning: PySoundFile failed. Trying audioread instead.\n",
      "  return f(*args, **kwargs)\n",
      "/Users/shiftyblock/opt/anaconda3/envs/week1/lib/python3.8/site-packages/librosa/util/decorators.py:88: UserWarning: PySoundFile failed. Trying audioread instead.\n",
      "  return f(*args, **kwargs)\n",
      "/Users/shiftyblock/opt/anaconda3/envs/week1/lib/python3.8/site-packages/librosa/util/decorators.py:88: UserWarning: PySoundFile failed. Trying audioread instead.\n",
      "  return f(*args, **kwargs)\n",
      "/Users/shiftyblock/opt/anaconda3/envs/week1/lib/python3.8/site-packages/librosa/util/decorators.py:88: UserWarning: PySoundFile failed. Trying audioread instead.\n",
      "  return f(*args, **kwargs)\n",
      "/Users/shiftyblock/opt/anaconda3/envs/week1/lib/python3.8/site-packages/librosa/util/decorators.py:88: UserWarning: PySoundFile failed. Trying audioread instead.\n",
      "  return f(*args, **kwargs)\n",
      "/Users/shiftyblock/opt/anaconda3/envs/week1/lib/python3.8/site-packages/librosa/util/decorators.py:88: UserWarning: PySoundFile failed. Trying audioread instead.\n",
      "  return f(*args, **kwargs)\n",
      "/Users/shiftyblock/opt/anaconda3/envs/week1/lib/python3.8/site-packages/librosa/util/decorators.py:88: UserWarning: PySoundFile failed. Trying audioread instead.\n",
      "  return f(*args, **kwargs)\n",
      "/Users/shiftyblock/opt/anaconda3/envs/week1/lib/python3.8/site-packages/librosa/util/decorators.py:88: UserWarning: PySoundFile failed. Trying audioread instead.\n",
      "  return f(*args, **kwargs)\n",
      "/Users/shiftyblock/opt/anaconda3/envs/week1/lib/python3.8/site-packages/librosa/util/decorators.py:88: UserWarning: PySoundFile failed. Trying audioread instead.\n",
      "  return f(*args, **kwargs)\n"
     ]
    }
   ],
   "source": [
    "import librosa\n",
    "\n",
    "#takes in an array of file paths and outputs librosa audio info\n",
    "def toAudio(array: Sequence[str]) -> Sequence[Tuple[np.ndarray, int]]:\n",
    "    audios = []\n",
    "    for item in array:\n",
    "        recorded, rate = librosa.load(item, sr =44100, mono = True)\n",
    "        audios.append((recorded, rate))\n",
    "    return audios\n",
    "# `audios` is a numpy array of N audio samples\n",
    "\n",
    "audios = toAudio(array)"
   ]
  },
  {
   "cell_type": "code",
   "execution_count": 8,
   "metadata": {},
   "outputs": [
    {
     "data": {
      "text/plain": [
       "[(array([ 0.0000000e+00,  0.0000000e+00,  0.0000000e+00, ...,\n",
       "         -2.7207936e-06,  2.6061334e-05,  1.9037490e-05], dtype=float32),\n",
       "  44100),\n",
       " (array([ 1.47622850e-05,  1.36683075e-05, -1.86741563e-05, ...,\n",
       "         -3.73592375e-05, -2.87156672e-05, -3.14706049e-05], dtype=float32),\n",
       "  44100),\n",
       " (array([0., 0., 0., ..., 0., 0., 0.], dtype=float32), 44100),\n",
       " (array([0., 0., 0., ..., 0., 0., 0.], dtype=float32), 44100),\n",
       " (array([0., 0., 0., ..., 0., 0., 0.], dtype=float32), 44100),\n",
       " (array([-2.9409373e-05, -4.5361860e-05,  1.1832793e-05, ...,\n",
       "          0.0000000e+00,  0.0000000e+00,  0.0000000e+00], dtype=float32),\n",
       "  44100),\n",
       " (array([1.61434527e-05, 1.31561565e-05, 1.88286031e-05, ...,\n",
       "         0.00000000e+00, 0.00000000e+00, 0.00000000e+00], dtype=float32),\n",
       "  44100),\n",
       " (array([0., 0., 0., ..., 0., 0., 0.], dtype=float32), 44100),\n",
       " (array([2.8692750e-05, 6.4643289e-05, 5.4227032e-05, ..., 4.3473989e-05,\n",
       "         2.3386052e-05, 1.1289971e-05], dtype=float32),\n",
       "  44100),\n",
       " (array([0., 0., 0., ..., 0., 0., 0.], dtype=float32), 44100),\n",
       " (array([0.0000000e+00, 0.0000000e+00, 0.0000000e+00, ..., 1.4712285e-05,\n",
       "         1.5918718e-05, 2.0369393e-06], dtype=float32),\n",
       "  44100),\n",
       " (array([ 0.0000000e+00,  0.0000000e+00,  0.0000000e+00, ...,\n",
       "          1.1863550e-05,  4.8164184e-06, -2.3670423e-06], dtype=float32),\n",
       "  44100),\n",
       " (array([2.0111745e-06, 1.2882907e-05, 2.0045535e-07, ..., 0.0000000e+00,\n",
       "         0.0000000e+00, 0.0000000e+00], dtype=float32),\n",
       "  44100),\n",
       " (array([ 3.7737058e-07, -3.2693407e-07,  2.2004095e-07, ...,\n",
       "          2.9588728e-05,  3.1417760e-05,  2.9790646e-05], dtype=float32),\n",
       "  44100),\n",
       " (array([0., 0., 0., ..., 0., 0., 0.], dtype=float32), 44100)]"
      ]
     },
     "execution_count": 8,
     "metadata": {},
     "output_type": "execute_result"
    }
   ],
   "source": [
    "audios"
   ]
  },
  {
   "cell_type": "code",
   "execution_count": 19,
   "metadata": {},
   "outputs": [],
   "source": [
    "import matplotlib.mlab as mlab\n",
    "\n",
    "#takes in an audio tuple(audio, sampling rate)\n",
    "#outputs a tuple of log10spectrogram, frequencies, and times\n",
    "def toSpectrogram(audio: Tuple[np.ndarray, int]) -> Sequence[Tuple[np.ndarray, np.ndarray, np.ndarray]]:\n",
    "    recorded_audio = audio[0]\n",
    "    sampling_rate = audio[1]\n",
    "    S, freqs, times = mlab.specgram(\n",
    "        recorded_audio,\n",
    "        NFFT=4096,\n",
    "        Fs=sampling_rate,\n",
    "        window=mlab.window_hanning,\n",
    "        noverlap=int(4096 / 2)\n",
    "    )\n",
    "    S = np.clip(S, 1e-20, None)\n",
    "    S = np.log10(S)\n",
    "    return ((S,freqs,times))"
   ]
  },
  {
   "cell_type": "code",
   "execution_count": 20,
   "metadata": {},
   "outputs": [],
   "source": [
    "specgrams = toSpectrogram(audios)"
   ]
  },
  {
   "cell_type": "code",
   "execution_count": 21,
   "metadata": {},
   "outputs": [],
   "source": [
    "pickle = np.array(specgrams, dtype = object)\n",
    "with open('specgrams.npy', 'wb') as f:\n",
    "    np.save(f, pickle)"
   ]
  },
  {
   "cell_type": "code",
   "execution_count": 22,
   "metadata": {},
   "outputs": [
    {
     "data": {
      "text/plain": [
       "\"\\nwith open('specgrams.npy', 'rb') as f:\\n    specgrams = np.load(f, allow_pickle = True)\\n\""
      ]
     },
     "execution_count": 22,
     "metadata": {},
     "output_type": "execute_result"
    }
   ],
   "source": [
    "#To load the numpy file\n",
    "'''\n",
    "with open('specgrams.npy', 'rb') as f:\n",
    "    specgrams = np.load(f, allow_pickle = True)\n",
    "'''"
   ]
  },
  {
   "cell_type": "code",
   "execution_count": null,
   "metadata": {},
   "outputs": [],
   "source": []
  },
  {
   "cell_type": "code",
   "execution_count": null,
   "metadata": {},
   "outputs": [],
   "source": []
  },
  {
   "cell_type": "code",
   "execution_count": null,
   "metadata": {},
   "outputs": [],
   "source": []
  },
  {
   "cell_type": "code",
   "execution_count": null,
   "metadata": {},
   "outputs": [],
   "source": []
  }
 ],
 "metadata": {
  "kernelspec": {
   "display_name": "Python 3 (ipykernel)",
   "language": "python",
   "name": "python3"
  },
  "language_info": {
   "codemirror_mode": {
    "name": "ipython",
    "version": 3
   },
   "file_extension": ".py",
   "mimetype": "text/x-python",
   "name": "python",
   "nbconvert_exporter": "python",
   "pygments_lexer": "ipython3",
   "version": "3.8.13"
  }
 },
 "nbformat": 4,
 "nbformat_minor": 1
}