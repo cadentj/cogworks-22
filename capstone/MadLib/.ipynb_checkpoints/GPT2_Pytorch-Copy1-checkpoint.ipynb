{
 "cells": [
  {
   "cell_type": "code",
   "execution_count": 1,
   "metadata": {
    "colab": {
     "base_uri": "https://localhost:8080/",
     "height": 373
    },
    "colab_type": "code",
    "id": "4L7HpNaFHO5D",
    "outputId": "a97fd9ea-0390-473c-f96a-2b0e32e70cca",
    "scrolled": false
   },
   "outputs": [
    {
     "name": "stdout",
     "output_type": "stream",
     "text": [
      "Cloning into 'gpt-2-Pytorch'...\n",
      "remote: Enumerating objects: 130, done.\u001b[K\n",
      "remote: Total 130 (delta 0), reused 0 (delta 0), pack-reused 130\u001b[K\n",
      "Receiving objects: 100% (130/130), 2.39 MiB | 10.41 MiB/s, done.\n",
      "Resolving deltas: 100% (48/48), done.\n",
      "/Users/japleen/ryan-sus/capstone/MadLib/gpt-2-Pytorch\n",
      "  % Total    % Received % Xferd  Average Speed   Time    Time     Time  Current\n",
      "                                 Dload  Upload   Total   Spent    Left  Speed\n",
      "100  522M  100  522M    0     0  7724k      0  0:01:09  0:01:09 --:--:-- 10.3M 135M    0     0  12.1M      0  0:00:43  0:00:11  0:00:32 8169k 522M   37  197M    0     0  9538k      0  0:00:56  0:00:21  0:00:35 6544k     0  9241k      0  0:00:57  0:00:24  0:00:33 7061k5M    0     0  8259k      0  0:01:04  0:00:34  0:00:30 6139k6M    0     0  7842k      0  0:01:08  0:00:45  0:00:23 6869k7M    0     0  7522k      0  0:01:11  0:00:54  0:00:17 5827k  0  7442k      0  0:01:11  0:00:57  0:00:14 5994k  0     0  7545k      0  0:01:10  0:01:05  0:00:05 9068k\n",
      "Collecting regex==2017.4.5\n",
      "  Downloading regex-2017.04.05.tar.gz (601 kB)\n",
      "\u001b[2K     \u001b[90m━━━━━━━━━━━━━━━━━━━━━━━━━━━━━━━━━━━━━━━\u001b[0m \u001b[32m601.6/601.6 kB\u001b[0m \u001b[31m7.4 MB/s\u001b[0m eta \u001b[36m0:00:00\u001b[0m00:01\u001b[0m00:01\u001b[0m\n",
      "\u001b[?25h  Preparing metadata (setup.py) ... \u001b[?25ldone\n",
      "\u001b[?25hBuilding wheels for collected packages: regex\n",
      "  Building wheel for regex (setup.py) ... \u001b[?25ldone\n",
      "\u001b[?25h  Created wheel for regex: filename=regex-2017.4.5-cp38-cp38-macosx_10_9_x86_64.whl size=260813 sha256=9e9aaebb8fe2b2346703d27adc18b61e381b083ba35f3ea6b3d10c3d327636d9\n",
      "  Stored in directory: /Users/japleen/Library/Caches/pip/wheels/45/6d/d9/1c9b861321c9240122cb967b734a80545c9f465be4fcb16f19\n",
      "Successfully built regex\n",
      "Installing collected packages: regex\n",
      "  Attempting uninstall: regex\n",
      "    Found existing installation: regex 2022.7.9\n",
      "    Uninstalling regex-2022.7.9:\n",
      "      Successfully uninstalled regex-2022.7.9\n",
      "\u001b[31mERROR: pip's dependency resolver does not currently take into account all the packages that are installed. This behaviour is the source of the following dependency conflicts.\n",
      "nltk 3.6.5 requires regex>=2021.8.3, but you have regex 2017.4.5 which is incompatible.\u001b[0m\u001b[31m\n",
      "\u001b[0mSuccessfully installed regex-2017.4.5\n"
     ]
    }
   ],
   "source": [
    "!git clone https://github.com/graykode/gpt-2-Pytorch\n",
    "%cd gpt-2-Pytorch\n",
    "!curl --output gpt2-pytorch_model.bin https://s3.amazonaws.com/models.huggingface.co/bert/gpt2-pytorch_model.bin\n",
    "!pip install -r requirements.txt\n"
   ]
  },
  {
   "cell_type": "code",
   "execution_count": 3,
   "metadata": {
    "colab": {
     "base_uri": "https://localhost:8080/",
     "height": 205
    },
    "colab_type": "code",
    "id": "he_YiEC9T6-D",
    "outputId": "58e3f04e-905a-4adf-fd0c-98c682abe9d2"
   },
   "outputs": [
    {
     "name": "stdout",
     "output_type": "stream",
     "text": [
      "Namespace(batch_size=-1, length=-1, nsamples=1, quiet=False, temperature=0.7, text=' Iron Man was ', top_k=40, unconditional=False)\n",
      " Iron Man was \n",
      "100%|█████████████████████████████████████████| 512/512 [03:04<00:00,  2.77it/s]\n",
      "======================================== SAMPLE 1 ========================================\n",
      "iced up. There was a huge problem with the original recipe. When you got it you had to make sure it was \"perfect\" and didn't make it too heavy.\n",
      "\n",
      "So you started on the first batch of recipe and you're looking at about 10 grams of cream cheese and 3 tablespoons of butter, which is the amount of cream cheese you'll need to make.\n",
      "\n",
      "The third batch of recipe is a little more complicated, but the first batch of recipe is a whopping 11 grams. Here's how it looks:\n",
      "\n",
      "It's a little more complicated though, because the cream cheese is so heavy and doesn't have as much fat as butter. It's actually made from a mix of egg yolks, ground pork, and ground beef.\n",
      "\n",
      "To make the extra cream cheese, you'll need to make 1/2 cup ice cream. The amount of cream cheese you need depends on how hot you want to cook it. It's also important to know the ingredients at the time for the first batch of recipe.\n",
      "\n",
      "Next, make sure you're using the right temperature to keep your ice cream cool. When you're done, add the cream cheese to the pan. You don't want it to get too hot.\n",
      "\n",
      "Then, cut into a nice wide strip.\n",
      "\n",
      "And then top with your favorite toppings.\n",
      "\n",
      "If you have a bit of extra cream cheese on hand, you could also use it to make something else on the counter. The same is true for cream cheese.\n",
      "\n",
      "So, what's the difference between a big, white, hard-boiled egg and a small, white, hard-boiled egg with a black base? The black base is a much thinner, more concentrated egg. It's a harder, more concentrated egg to make.\n",
      "\n",
      "If you're unsure, you can buy the same recipe online and use the same ice cream recipe.\n",
      "\n",
      "This post has been updated.<|endoftext|>When I was growing up, my grandmother was very, very good with computers. She taught me how to make my first computer, and I was able to do my thing. I loved it, I couldn't wait to try it out, and I was very excited about it. I remember that day so vividly in my head.\n",
      "\n",
      "I'm sure that you know what happened next. The computer world was destroyed. There was no way to be a better person, or a better person to be around. The future was bright, and I found that I was really\n"
     ]
    }
   ],
   "source": [
    "#Once when I was six years old I saw a magnificent picture in a book, called True Stories from Nature, about the primeval forest.\n",
    "!python main.py --text \" Iron Man was \""
   ]
  },
  {
   "cell_type": "code",
   "execution_count": 11,
   "metadata": {},
   "outputs": [
    {
     "ename": "SyntaxError",
     "evalue": "invalid syntax (401317620.py, line 4)",
     "output_type": "error",
     "traceback": [
      "\u001b[0;36m  File \u001b[0;32m\"/var/folders/0d/dps258cx4dj0xbr633s_gv2c0000gn/T/ipykernel_7522/401317620.py\"\u001b[0;36m, line \u001b[0;32m4\u001b[0m\n\u001b[0;31m    def get_nouns(sentence)\u001b[0m\n\u001b[0m                           ^\u001b[0m\n\u001b[0;31mSyntaxError\u001b[0m\u001b[0;31m:\u001b[0m invalid syntax\n"
     ]
    }
   ],
   "source": [
    "# @param: string\n",
    "# @return: parts of speech in a list \n",
    "\n",
    "def get_nouns(sentence)\n",
    "\n",
    "#Level 1 \n",
    "# Harry Potter - nouns -> story \n",
    "# Marvel - nouns -> story \n",
    "\n",
    "#Level 2 \n",
    "# they give 2-5 words -> story \n",
    "\n",
    "#Level 3 \n",
    "# Madlib \n",
    "\n",
    "#Crazy level -> use our model to generate random sentences \n",
    "\n",
    "\n"
   ]
  },
  {
   "cell_type": "code",
   "execution_count": null,
   "metadata": {},
   "outputs": [],
   "source": []
  }
 ],
 "metadata": {
  "accelerator": "GPU",
  "colab": {
   "collapsed_sections": [],
   "name": "GPT2-Pytorch.ipynb",
   "provenance": [],
   "version": "0.3.2"
  },
  "kernelspec": {
   "display_name": "Python 3 (ipykernel)",
   "language": "python",
   "name": "python3"
  },
  "language_info": {
   "codemirror_mode": {
    "name": "ipython",
    "version": 3
   },
   "file_extension": ".py",
   "mimetype": "text/x-python",
   "name": "python",
   "nbconvert_exporter": "python",
   "pygments_lexer": "ipython3",
   "version": "3.8.13"
  }
 },
 "nbformat": 4,
 "nbformat_minor": 1
}
