{
 "cells": [
  {
   "cell_type": "markdown",
   "id": "e0ebafbd",
   "metadata": {},
   "source": [
    "### This is code from main.py"
   ]
  },
  {
   "cell_type": "code",
   "execution_count": 3,
   "id": "a1dff55d",
   "metadata": {},
   "outputs": [],
   "source": [
    "import os\n",
    "import sys\n",
    "import torch\n",
    "import random\n",
    "import argparse\n",
    "import numpy as np\n",
    "from GPT2.model import (GPT2LMHeadModel)\n",
    "from GPT2.utils import load_weight\n",
    "from GPT2.config import GPT2Config\n",
    "from GPT2.sample import sample_sequence\n",
    "from GPT2.encoder import get_encoder"
   ]
  },
  {
   "cell_type": "code",
   "execution_count": 5,
   "id": "20ea4654",
   "metadata": {},
   "outputs": [],
   "source": [
    "filepath = '/Users/mohan/Desktop/cogworks/bwsi/ryan-sus/capstone/MadLib/gpt-2-Pytorch/gpt2-pytorch_model.bin'\n",
    "state_dict = torch.load(filepath, map_location='cpu' if not torch.cuda.is_available() else None)"
   ]
  },
  {
   "cell_type": "code",
   "execution_count": 35,
   "id": "e6307f41",
   "metadata": {},
   "outputs": [],
   "source": [
    "def loadModel(state_dict):\n",
    "    seed = random.randint(0, 2147483647)\n",
    "    np.random.seed(seed)\n",
    "    torch.random.manual_seed(seed)\n",
    "    torch.cuda.manual_seed(seed)\n",
    "    device = torch.device(\"cuda\" if torch.cuda.is_available() else \"cpu\")\n",
    "\n",
    "    # Load Model\n",
    "    enc = get_encoder()\n",
    "    config = GPT2Config()\n",
    "    model = GPT2LMHeadModel(config)\n",
    "    model = load_weight(model, state_dict)\n",
    "    model.to(device)\n",
    "    model.eval()\n",
    "    \n",
    "    return model, config, enc\n"
   ]
  },
  {
   "cell_type": "code",
   "execution_count": 42,
   "id": "86544376",
   "metadata": {},
   "outputs": [],
   "source": [
    "def text_generator(model, config, enc, text,\n",
    "    quiet = False,\n",
    "    nsamples = 1,\n",
    "    unconditional = True,\n",
    "    batch_size = -1,\n",
    "    length = -1,\n",
    "    temperature = 0.7,\n",
    "    top_k = 40):\n",
    "     \n",
    "    \n",
    "    text_list = []\n",
    "    \n",
    "    if batch_size == -1:\n",
    "        batch_size = 1\n",
    "    assert nsamples % batch_size == 0\n",
    "    \n",
    "\n",
    "    if length == -1:\n",
    "        length = config.n_ctx // 2\n",
    "    elif length > config.n_ctx:\n",
    "        raise ValueError(\"Can't get samples longer than window size: %s\" % config.n_ctx)\n",
    "        \n",
    "        \n",
    "    context_tokens = enc.encode(text)\n",
    "    \n",
    "    \n",
    "    generated = 0\n",
    "    for _ in range(nsamples // batch_size):\n",
    "        out = sample_sequence(\n",
    "            model=model, length=length,\n",
    "            context=context_tokens  if not unconditional else None,\n",
    "            start_token=enc.encoder['<|endoftext|>'] if unconditional else None,\n",
    "            batch_size=batch_size,\n",
    "            temperature=temperature, top_k=top_k, device=\"cpu\"\n",
    "        )\n",
    "        out = out[:, len(context_tokens):].tolist()\n",
    "        for i in range(batch_size):\n",
    "            generated += 1\n",
    "            text = enc.decode(out[i])\n",
    "            text_list.append(text)\n",
    "            \n",
    "    return text_list[0]\n",
    "            \n",
    "            "
   ]
  },
  {
   "cell_type": "code",
   "execution_count": 47,
   "id": "0b8285a6",
   "metadata": {},
   "outputs": [],
   "source": [
    "model, config, enc = loadModel(state_dict)\n"
   ]
  },
  {
   "cell_type": "code",
   "execution_count": 63,
   "id": "a0f6ade0",
   "metadata": {},
   "outputs": [
    {
     "name": "stderr",
     "output_type": "stream",
     "text": [
      "100%|███████████████████████████████████████████| 50/50 [00:07<00:00,  6.38it/s]\n"
     ]
    }
   ],
   "source": [
    "text = text_generator(model, config, enc, \"Marvel superheroes are the best. My favorite movie was Endgame.\",\n",
    "    quiet = False,\n",
    "    nsamples = 1,\n",
    "    unconditional = False,\n",
    "    batch_size = -1,\n",
    "    length = 50,\n",
    "    temperature = 0.7,\n",
    "    top_k = 40)"
   ]
  },
  {
   "cell_type": "code",
   "execution_count": 64,
   "id": "c98dd41a",
   "metadata": {},
   "outputs": [
    {
     "name": "stdout",
     "output_type": "stream",
     "text": [
      " It's not a bad movie. It's a great movie. It's not a bad movie. And it's not a bad movie because it's so good.\n",
      "\n",
      "The movie that really opened my eyes was Superman Returns. It's a huge\n"
     ]
    }
   ],
   "source": [
    "print(text)"
   ]
  },
  {
   "cell_type": "code",
   "execution_count": null,
   "id": "c0d09f53",
   "metadata": {},
   "outputs": [],
   "source": []
  }
 ],
 "metadata": {
  "kernelspec": {
   "display_name": "Python 3 (ipykernel)",
   "language": "python",
   "name": "python3"
  },
  "language_info": {
   "codemirror_mode": {
    "name": "ipython",
    "version": 3
   },
   "file_extension": ".py",
   "mimetype": "text/x-python",
   "name": "python",
   "nbconvert_exporter": "python",
   "pygments_lexer": "ipython3",
   "version": "3.8.13"
  }
 },
 "nbformat": 4,
 "nbformat_minor": 5
}
