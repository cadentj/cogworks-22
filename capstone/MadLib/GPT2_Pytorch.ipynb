{
 "cells": [
  {
   "cell_type": "code",
   "execution_count": 5,
   "metadata": {
    "colab": {
     "base_uri": "https://localhost:8080/",
     "height": 373
    },
    "colab_type": "code",
    "id": "4L7HpNaFHO5D",
    "outputId": "a97fd9ea-0390-473c-f96a-2b0e32e70cca",
    "scrolled": false
   },
   "outputs": [
    {
     "name": "stdout",
     "output_type": "stream",
     "text": [
      "fatal: destination path 'gpt-2-Pytorch' already exists and is not an empty directory.\n",
      "/Users/manyadua/Downloads/ryan-sus/gpt-2-Pytorch/gpt-2-Pytorch/gpt-2-Pytorch\n",
      "  % Total    % Received % Xferd  Average Speed   Time    Time     Time  Current\n",
      "                                 Dload  Upload   Total   Spent    Left  Speed\n",
      "100  522M  100  522M    0     0  17.1M      0  0:00:30  0:00:30 --:--:--  9.9M  0    0     0      0      0 --:--:-- --:--:-- --:--:--     0 0:00:14  0:00:12 19.9MM    0     0  19.2M      0  0:00:27  0:00:21  0:00:06 18.4M:00:04 16.5M\n",
      "Requirement already satisfied: regex==2017.4.5 in /Users/manyadua/opt/anaconda3/lib/python3.9/site-packages (from -r requirements.txt (line 1)) (2017.4.5)\n"
     ]
    }
   ],
   "source": [
    "!git clone https://github.com/graykode/gpt-2-Pytorch\n",
    "%cd gpt-2-Pytorch\n",
    "!curl --output gpt2-pytorch_model.bin https://s3.amazonaws.com/models.huggingface.co/bert/gpt2-pytorch_model.bin\n",
    "!pip install -r requirements.txt\n"
   ]
  },
  {
   "cell_type": "code",
   "execution_count": 10,
   "metadata": {
    "colab": {
     "base_uri": "https://localhost:8080/",
     "height": 205
    },
    "colab_type": "code",
    "id": "he_YiEC9T6-D",
    "outputId": "58e3f04e-905a-4adf-fd0c-98c682abe9d2"
   },
   "outputs": [
    {
     "name": "stdout",
     "output_type": "stream",
     "text": [
      "Namespace(text=' Harry Potter', quiet=False, nsamples=1, unconditional=False, batch_size=-1, length=-1, temperature=0.7, top_k=40)\n",
      " Harry Potter\n",
      "100%|█████████████████████████████████████████| 512/512 [02:06<00:00,  4.05it/s]\n",
      "======================================== SAMPLE 1 ========================================\n",
      " books and the Hogwarts library.\n",
      "\n",
      "I'll have to look up the word about it later.\n",
      "\n",
      "It was only on the day the Ministry made their decision to go with this plan to keep everyone in the Dark Lord's Hollow safe.\n",
      "\n",
      "The Ministry of Magic was under siege. They had to keep it under control.\n",
      "\n",
      "It took a long time to get to the Dark Lord's Hollow, however.\n",
      "\n",
      "The Dark Lord had already begun his march.\n",
      "\n",
      "As the Dark Lord's Hollow was under siege, he was able to make it to the Black Chamber.\n",
      "\n",
      "As the Black Chamber was being besieged by the Dark Lord's Hollow, the Dark Lord's Hollow had already lost more than 50% of its population.\n",
      "\n",
      "As the Dark Lord's Hollow entered the Black Chamber, he had to make it to the other side of the Black Chamber.\n",
      "\n",
      "And he had to do this.\n",
      "\n",
      "In the end, the Black Chamber was able to hold its ground until it could finish the siege.\n",
      "\n",
      "There was no need to move.\n",
      "\n",
      "They had just been able to hold the Black Chamber.\n",
      "\n",
      "The Dark Lord's Hollow had already begun his march.\n",
      "\n",
      "It had already taken another 50% of the population.\n",
      "\n",
      "He could only take a few minutes to reach the other side of the Black Chamber.\n",
      "\n",
      "After all, many people didn't have time to move.\n",
      "\n",
      "If the Dark Lord's Hollow had been able to hold out for 5 minutes, it would've been the end for the Dark Lord.\n",
      "\n",
      "But that didn't happen.\n",
      "\n",
      "It was too late.\n",
      "\n",
      "It was too late.\n",
      "\n",
      "The Black Chamber was already falling apart.\n",
      "\n",
      "The Dark Lord's Hollow had already begun his march.\n",
      "\n",
      "The Dark Lord's Hollow had already started his march.\n",
      "\n",
      "He was already in the Black Chamber.\n",
      "\n",
      "The Black Chamber had already killed 10 of its inhabitants.\n",
      "\n",
      "No matter how many were dead, they would still be there.\n",
      "\n",
      "This was all that mattered.\n",
      "\n",
      "The Dark Lord's Hollow was unable to withstand the Dark Lord's Hollow's attack because of its size.\n",
      "\n",
      "It would completely die.\n",
      "\n",
      "The Dark Lord's Hollow was unable to withstand the Dark Lord's Hollow's attack due to its size.\n",
      "\n",
      "It would completely die.\n",
      "\n",
      "The Dark Lord's Hollow's head fell to the floor.\n",
      "\n",
      "It was covered in blood.\n",
      "\n",
      "The Dark Lord's Hollow\n"
     ]
    }
   ],
   "source": [
    "#Once when I was six years old I saw a magnificent picture in a book, called True Stories from Nature, about the primeval forest.\n",
    "!python main.py --text \" Harry Potter\""
   ]
  },
  {
   "cell_type": "code",
   "execution_count": 11,
   "metadata": {},
   "outputs": [
    {
     "ename": "SyntaxError",
     "evalue": "invalid syntax (401317620.py, line 4)",
     "output_type": "error",
     "traceback": [
      "\u001b[0;36m  File \u001b[0;32m\"/var/folders/0d/dps258cx4dj0xbr633s_gv2c0000gn/T/ipykernel_7522/401317620.py\"\u001b[0;36m, line \u001b[0;32m4\u001b[0m\n\u001b[0;31m    def get_nouns(sentence)\u001b[0m\n\u001b[0m                           ^\u001b[0m\n\u001b[0;31mSyntaxError\u001b[0m\u001b[0;31m:\u001b[0m invalid syntax\n"
     ]
    }
   ],
   "source": [
    "# @param: string\n",
    "# @return: parts of speech in a list \n",
    "\n",
    "def get_nouns(sentence)\n",
    "\n",
    "#Level 1 \n",
    "# Harry Potter - nouns -> story \n",
    "# Marvel - nouns -> story \n",
    "\n",
    "#Level 2 \n",
    "# they give 2-5 words -> story \n",
    "\n",
    "#Level 3 \n",
    "# Madlib \n",
    "\n",
    "#Crazy level -> use our model to generate random sentences \n",
    "\n",
    "\n"
   ]
  },
  {
   "cell_type": "code",
   "execution_count": null,
   "metadata": {},
   "outputs": [],
   "source": []
  }
 ],
 "metadata": {
  "accelerator": "GPU",
  "colab": {
   "collapsed_sections": [],
   "name": "GPT2-Pytorch.ipynb",
   "provenance": [],
   "version": "0.3.2"
  },
  "kernelspec": {
   "display_name": "Python 3 (ipykernel)",
   "language": "python",
   "name": "python3"
  },
  "language_info": {
   "codemirror_mode": {
    "name": "ipython",
    "version": 3
   },
   "file_extension": ".py",
   "mimetype": "text/x-python",
   "name": "python",
   "nbconvert_exporter": "python",
   "pygments_lexer": "ipython3",
   "version": "3.9.7"
  }
 },
 "nbformat": 4,
 "nbformat_minor": 1
}
