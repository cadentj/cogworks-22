{
 "cells": [
  {
   "cell_type": "code",
   "execution_count": 12,
   "metadata": {
    "colab": {
     "base_uri": "https://localhost:8080/",
     "height": 373
    },
    "colab_type": "code",
    "id": "4L7HpNaFHO5D",
    "outputId": "a97fd9ea-0390-473c-f96a-2b0e32e70cca",
    "scrolled": false
   },
   "outputs": [
    {
     "name": "stdout",
     "output_type": "stream",
     "text": [
      "fatal: destination path 'gpt-2-Pytorch' already exists and is not an empty directory.\n",
      "/Users/japleen/ryan-sus/capstone/MadLib/gpt-2-Pytorch\n",
      "  % Total    % Received % Xferd  Average Speed   Time    Time     Time  Current\n",
      "                                 Dload  Upload   Total   Spent    Left  Speed\n",
      "100  522M  100  522M    0     0  9900k      0  0:00:54  0:00:54 --:--:-- 11.6M  0  0:00:48  0:00:37  0:00:11 5070k     0  0:00:53  0:00:45  0:00:08 5107k\n",
      "Requirement already satisfied: regex==2017.4.5 in /Users/japleen/opt/anaconda3/envs/week3/lib/python3.8/site-packages (from -r requirements.txt (line 1)) (2017.4.5)\n"
     ]
    }
   ],
   "source": [
    "!git clone https://github.com/graykode/gpt-2-Pytorch\n",
    "%cd gpt-2-Pytorch\n",
    "!curl --output gpt2-pytorch_model.bin https://s3.amazonaws.com/models.huggingface.co/bert/gpt2-pytorch_model.bin\n",
    "!pip install -r requirements.txt\n"
   ]
  },
  {
   "cell_type": "code",
   "execution_count": 20,
   "metadata": {
    "colab": {
     "base_uri": "https://localhost:8080/",
     "height": 205
    },
    "colab_type": "code",
    "id": "he_YiEC9T6-D",
    "outputId": "58e3f04e-905a-4adf-fd0c-98c682abe9d2"
   },
   "outputs": [
    {
     "name": "stderr",
     "output_type": "stream",
     "text": [
      "usage: ipykernel_launcher.py [-h] --text TEXT [--quiet QUIET]\n",
      "                             [--nsamples NSAMPLES] [--unconditional]\n",
      "                             [--batch_size BATCH_SIZE] [--length LENGTH]\n",
      "                             [--temperature TEMPERATURE] [--top_k TOP_K]\n",
      "ipykernel_launcher.py: error: the following arguments are required: --text\n"
     ]
    },
    {
     "ename": "SystemExit",
     "evalue": "2",
     "output_type": "error",
     "traceback": [
      "An exception has occurred, use %tb to see the full traceback.\n",
      "\u001b[0;31mSystemExit\u001b[0m\u001b[0;31m:\u001b[0m 2\n"
     ]
    },
    {
     "name": "stderr",
     "output_type": "stream",
     "text": [
      "/Users/japleen/opt/anaconda3/envs/week3/lib/python3.8/site-packages/IPython/core/interactiveshell.py:3406: UserWarning: To exit: use 'exit', 'quit', or Ctrl-D.\n",
      "  warn(\"To exit: use 'exit', 'quit', or Ctrl-D.\", stacklevel=1)\n"
     ]
    }
   ],
   "source": [
    "#Once when I was six years old I saw a magnificent picture in a book, called True Stories from Nature, about the primeval forest.\n",
    "from main import text_generator\n",
    "import torch\n",
    "text_generator(state_dict = torch.load('gpt2-pytorch_model.bin', map_location='cpu' if not torch.cuda.is_available() else None))\n"
   ]
  },
  {
   "cell_type": "code",
   "execution_count": 10,
   "metadata": {},
   "outputs": [
    {
     "name": "stdout",
     "output_type": "stream",
     "text": [
      "['Please download gpt2-pytorch_model.bin']\n"
     ]
    }
   ],
   "source": []
  },
  {
   "cell_type": "code",
   "execution_count": 5,
   "metadata": {},
   "outputs": [
    {
     "ename": "SyntaxError",
     "evalue": "invalid syntax (3638775694.py, line 4)",
     "output_type": "error",
     "traceback": [
      "\u001b[0;36m  Input \u001b[0;32mIn [5]\u001b[0;36m\u001b[0m\n\u001b[0;31m    def get_nouns(sentence)\u001b[0m\n\u001b[0m                           ^\u001b[0m\n\u001b[0;31mSyntaxError\u001b[0m\u001b[0;31m:\u001b[0m invalid syntax\n"
     ]
    }
   ],
   "source": [
    "# @param: string\n",
    "# @return: parts of speech in a list \n",
    "\n",
    "def get_nouns(sentence)\n",
    "\n",
    "#Level 1 \n",
    "# Harry Potter - nouns -> story \n",
    "# Marvel - nouns -> story \n",
    "\n",
    "#Level 2 \n",
    "# they give 2-5 words -> story \n",
    "\n",
    "#Level 3 \n",
    "# Madlib \n",
    "\n",
    "#Crazy level -> use our model to generate random sentences \n",
    "\n",
    "\n"
   ]
  },
  {
   "cell_type": "code",
   "execution_count": null,
   "metadata": {},
   "outputs": [],
   "source": []
  }
 ],
 "metadata": {
  "accelerator": "GPU",
  "colab": {
   "collapsed_sections": [],
   "name": "GPT2-Pytorch.ipynb",
   "provenance": [],
   "version": "0.3.2"
  },
  "kernelspec": {
   "display_name": "Python 3 (ipykernel)",
   "language": "python",
   "name": "python3"
  },
  "language_info": {
   "codemirror_mode": {
    "name": "ipython",
    "version": 3
   },
   "file_extension": ".py",
   "mimetype": "text/x-python",
   "name": "python",
   "nbconvert_exporter": "python",
   "pygments_lexer": "ipython3",
   "version": "3.8.13"
  }
 },
 "nbformat": 4,
 "nbformat_minor": 1
}
