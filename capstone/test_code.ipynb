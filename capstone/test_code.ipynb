{
 "cells": [
  {
   "cell_type": "code",
   "execution_count": 1,
   "id": "bb44f715",
   "metadata": {},
   "outputs": [
    {
     "ename": "ModuleNotFoundError",
     "evalue": "No module named 'textblob'",
     "output_type": "error",
     "traceback": [
      "\u001b[0;31m---------------------------------------------------------------------------\u001b[0m",
      "\u001b[0;31mModuleNotFoundError\u001b[0m                       Traceback (most recent call last)",
      "Input \u001b[0;32mIn [1]\u001b[0m, in \u001b[0;36m<cell line: 1>\u001b[0;34m()\u001b[0m\n\u001b[0;32m----> 1\u001b[0m \u001b[38;5;28;01mfrom\u001b[39;00m \u001b[38;5;21;01mtextblob\u001b[39;00m \u001b[38;5;28;01mimport\u001b[39;00m TextBlob\n\u001b[1;32m      2\u001b[0m \u001b[38;5;28;01mimport\u001b[39;00m \u001b[38;5;21;01mrandom\u001b[39;00m\n",
      "\u001b[0;31mModuleNotFoundError\u001b[0m: No module named 'textblob'"
     ]
    }
   ],
   "source": [
    "from textblob import TextBlob\n",
    "import random"
   ]
  },
  {
   "cell_type": "code",
   "execution_count": null,
   "id": "775bb911",
   "metadata": {},
   "outputs": [],
   "source": [
    "def take_nouns_from(article):\n",
    "    #takes all the nouns of the parameter text\n",
    "    #used to make all the 'tone' of the article\n",
    "    #also used to take out all the nouns in the support article\n",
    "    blob = TextBlob(article)\n",
    "    article_tagged = blob.tags\n",
    "    indices_of_nouns = []\n",
    "    tagged_words = [x[1] for x in article_tagged]\n",
    "    index = 0\n",
    "    for tag in tagged_words:\n",
    "        if \"NN\" == tag:\n",
    "            indices_of_nouns += [index]\n",
    "        index += 1\n",
    "        tagged_words = tagged_words[index:]\n",
    "\n",
    "    nouns = []\n",
    "    words = [x[0] for x in article_tagged]"
   ]
  }
 ],
 "metadata": {
  "kernelspec": {
   "display_name": "Python 3 (ipykernel)",
   "language": "python",
   "name": "python3"
  },
  "language_info": {
   "codemirror_mode": {
    "name": "ipython",
    "version": 3
   },
   "file_extension": ".py",
   "mimetype": "text/x-python",
   "name": "python",
   "nbconvert_exporter": "python",
   "pygments_lexer": "ipython3",
   "version": "3.8.13"
  }
 },
 "nbformat": 4,
 "nbformat_minor": 5
}
