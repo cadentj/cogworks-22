{
 "cells": [
  {
   "cell_type": "code",
   "execution_count": null,
   "id": "dd9e41bb",
   "metadata": {},
   "outputs": [],
   "source": [
    "import numpy as np\n",
    "import matplotlib.pyplot as plt\n",
    "import matplotlib.mlab as mlab\n",
    "from typing import Tuple\n",
    "import os \n",
    "import pickle\n",
    "import librosa\n",
    "from pathlib import Path \n"
   ]
  },
  {
   "cell_type": "code",
   "execution_count": null,
   "id": "2dd0b24c",
   "metadata": {},
   "outputs": [],
   "source": [
    "def query_database(database, fingerprints, peak_times):  #tallying song id, time offset, you're saying the same peaks with the same offset \n",
    "    song_id_offset = []\n",
    "    for (fm, fn, dt), t_clip in zip(fingerprints, peak_times): # pair from recording , t_clip - time in clip\n",
    "        if (fm, fn, dt) in database: # check if key exists in dictionary \n",
    "            for songId, t_song in database[(fm, fn,dt)]: # if exists in database, use those as keys \n",
    "                offset = t_clip - t_song\n",
    "                song_id_offset.append((songId, offset))\n",
    "    return song_id_offset\n"
   ]
  },
  {
   "cell_type": "code",
   "execution_count": null,
   "id": "9b21ed4c",
   "metadata": {},
   "outputs": [],
   "source": [
    "def add_to_database(fingerprints, peak_times, song_name, database, song_id_to_name): # this would be given by method , \n",
    "    \n",
    "    # return database\n",
    "    # dictionary: 0: \"willow\", 1 : \"\"\n",
    "    # generate new song id for this song -\n",
    " \n",
    "    \n",
    "    songId = len(song_id_to_name)\n",
    "    song_id_to_name[songId] = song_name\n",
    "        \n",
    "    for (fm, fn, dt), tm in zip(fingerprints, peak_times):\n",
    "        database[(fm, fn, dt)].append((songId, tm)) \n",
    "    \n",
    "    query_database(database, fingerprints, peak_times)\n",
    "    \n",
    "    return database\n"
   ]
  }
 ],
 "metadata": {
  "kernelspec": {
   "display_name": "Python 3 (ipykernel)",
   "language": "python",
   "name": "python3"
  },
  "language_info": {
   "codemirror_mode": {
    "name": "ipython",
    "version": 3
   },
   "file_extension": ".py",
   "mimetype": "text/x-python",
   "name": "python",
   "nbconvert_exporter": "python",
   "pygments_lexer": "ipython3",
   "version": "3.8.13"
  }
 },
 "nbformat": 4,
 "nbformat_minor": 5
}
