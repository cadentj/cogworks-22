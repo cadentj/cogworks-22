{
 "cells": [
  {
   "cell_type": "code",
   "execution_count": null,
   "id": "9f25ddb5",
   "metadata": {},
   "outputs": [],
   "source": [
    "import pickle\n",
    "import os\n",
    "\n",
    "def storeData():\n",
    "    # initializing data to be stored in db\n",
    "    \n",
    "    \"\"\"\n",
    "    filepaths = [\"data/baldtom.jpg\", \"data/tom.jpg\", \"data/tom2.jpg\", \"data/tom3.jpg\", \"data/voguetom.jpg\", \n",
    "                 \"data/sj1.jpg\", \"data/sj2.jpg\",\"data/sj3.jpg\", \"data/sj4.jpg\", \"data/sj5.jpg\", \"data/rdj1.jpg\", \n",
    "                 \"data/rdj2.jpg\", \"data/rdj3.jpg\", \"data/rdj4.jpg\", \"data/rdj5.jpg\", \"data/rdj6.jpg\"]\n",
    "    \"\"\"\n",
    "\n",
    "    filepaths = []\n",
    "\n",
    "    Path = \"./data\"\n",
    "    filelist = os.listdir(Path)\n",
    "    for i in filelist:\n",
    "        if i.endswith(\".jpg\" or \".png\"):  # You could also add \"and i.startswith('f')\n",
    "            filepaths.append(\"./data/\" + i)\n",
    "\n",
    "    filepaths\n",
    "\n",
    "  \n",
    "    # database\n",
    "    db = {}\n",
    "      \n",
    "    # Its important to use binary mode\n",
    "    dbfile = open('Pickle', 'ab')\n",
    "      \n",
    "    # source, destination\n",
    "    pickle.dump(db, dbfile)                     \n",
    "    dbfile.close()\n",
    "    \n",
    "    \n",
    "def loadData():\n",
    "    # for reading also binary mode is important\n",
    "    dbfile = open('Pickle', 'rb')     \n",
    "    db = pickle.load(dbfile)\n",
    "    \n",
    "    for keys in db:\n",
    "        print(keys, '=>', db[keys])\n",
    "    dbfile.close()"
   ]
  },
  {
   "cell_type": "code",
   "execution_count": null,
   "id": "d22f6c74",
   "metadata": {},
   "outputs": [],
   "source": []
  }
 ],
 "metadata": {
  "kernelspec": {
   "display_name": "Python 3 (ipykernel)",
   "language": "python",
   "name": "python3"
  },
  "language_info": {
   "codemirror_mode": {
    "name": "ipython",
    "version": 3
   },
   "file_extension": ".py",
   "mimetype": "text/x-python",
   "name": "python",
   "nbconvert_exporter": "python",
   "pygments_lexer": "ipython3",
   "version": "3.8.13"
  }
 },
 "nbformat": 4,
 "nbformat_minor": 5
}
