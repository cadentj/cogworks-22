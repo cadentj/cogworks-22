{
 "cells": [
  {
   "cell_type": "code",
   "execution_count": null,
   "id": "273b06ea",
   "metadata": {},
   "outputs": [],
   "source": [
    "import numpy as np\n",
    "import mygrad as mg\n",
    "from mygrad import Tensor\n",
    "\n",
    "from noggin import create_plot\n",
    "import matplotlib.pyplot as plt\n",
    "\n",
    "%matplotlib notebook"
   ]
  },
  {
   "cell_type": "code",
   "execution_count": null,
   "id": "738df546",
   "metadata": {},
   "outputs": [],
   "source": [
    "import os\n",
    "\n",
    "raw_photo_paths = []\n",
    "\n",
    "Path = \"./data\"\n",
    "filelist = os.listdir(Path)\n",
    "for i in filelist:\n",
    "    if i.endswith(\".jpg\" or \".png\"):  # You could also add \"and i.startswith('f')\n",
    "        raw_photo_paths.append(\"./data/\" + i)\n",
    "\n",
    "raw_photo_paths"
   ]
  },
  {
   "cell_type": "code",
   "execution_count": null,
   "id": "b88c4e45",
   "metadata": {},
   "outputs": [],
   "source": [
    "import skimage.io as io\n",
    "\n",
    "# shape-(Height, Width, Color)\n",
    "def vectorize_photo(path) :\n",
    "    image = io.imread(str(path))\n",
    "    if image.shape[-1] == 4:\n",
    "        # Image is RGBA, where A is alpha -> transparency\n",
    "        # Must make image RGB.\n",
    "        image = image[..., :-1]  # png -> RGB\n",
    "    \n",
    "    return image"
   ]
  },
  {
   "cell_type": "code",
   "execution_count": null,
   "id": "645eff3f",
   "metadata": {},
   "outputs": [],
   "source": [
    "vectorized_images = []\n",
    "\n",
    "for photo_path in raw_photo_paths :\n",
    "    image = vectorize_photo(photo_path)\n",
    "    vectorized_images.append(image)"
   ]
  },
  {
   "cell_type": "code",
   "execution_count": null,
   "id": "9ecf3351",
   "metadata": {},
   "outputs": [],
   "source": [
    "from facenet_models import FacenetModel\n",
    "\n",
    "model = FacenetModel()"
   ]
  },
  {
   "cell_type": "code",
   "execution_count": null,
   "id": "b21e1990",
   "metadata": {},
   "outputs": [],
   "source": [
    "class Profile() :\n",
    "    def __init__(self, name, descriptions):\n",
    "        self.name = name\n",
    "        self.descriptions = descriptions\n",
    "        \n",
    "    def data(self) :\n",
    "        return (self.name, self.descriptions)\n",
    "    \n",
    "    def add(self, description) :\n",
    "        self.descriptions.append(description)"
   ]
  },
  {
   "cell_type": "code",
   "execution_count": null,
   "id": "8b951604",
   "metadata": {},
   "outputs": [],
   "source": [
    "descriptions = []\n",
    "\n",
    "for image in vectorized_images :\n",
    "    # assumes ``pic`` is a numpy array of shape (R, C, 3) (RGB is the last dimension)\n",
    "    boxes, probabilities, landmarks = model.detect(image)\n",
    "    descriptions = model.compute_descriptors(image, boxes)"
   ]
  },
  {
   "cell_type": "code",
   "execution_count": null,
   "id": "dbc2a312",
   "metadata": {},
   "outputs": [],
   "source": [
    "name = \"tom\"\n",
    "tom = Profile(name, descriptions)"
   ]
  },
  {
   "cell_type": "code",
   "execution_count": null,
   "id": "f2114f77",
   "metadata": {},
   "outputs": [],
   "source": [
    "name, descriptions = tom.data()\n",
    "descriptions[0].shape"
   ]
  }
 ],
 "metadata": {
  "kernelspec": {
   "display_name": "Python 3 (ipykernel)",
   "language": "python",
   "name": "python3"
  },
  "language_info": {
   "codemirror_mode": {
    "name": "ipython",
    "version": 3
   },
   "file_extension": ".py",
   "mimetype": "text/x-python",
   "name": "python",
   "nbconvert_exporter": "python",
   "pygments_lexer": "ipython3",
   "version": "3.8.13"
  }
 },
 "nbformat": 4,
 "nbformat_minor": 5
}
