{
 "cells": [
  {
   "cell_type": "code",
   "execution_count": 6,
   "id": "75a66947",
   "metadata": {},
   "outputs": [],
   "source": [
    "import numpy as np\n",
    "import mygrad as mg\n",
    "from mygrad import Tensor\n",
    "\n",
    "from noggin import create_plot\n",
    "import matplotlib.pyplot as plt\n",
    "\n",
    "%matplotlib notebook"
   ]
  },
  {
   "cell_type": "code",
   "execution_count": 7,
   "id": "1261ff9b",
   "metadata": {},
   "outputs": [
    {
     "data": {
      "text/plain": [
       "['./data/baldtom.jpg',\n",
       " './data/tom.jpg',\n",
       " './data/tom2.jpg',\n",
       " './data/tom3.jpg',\n",
       " './data/voguetom.jpg']"
      ]
     },
     "execution_count": 7,
     "metadata": {},
     "output_type": "execute_result"
    }
   ],
   "source": [
    "import os\n",
    "\n",
    "raw_photo_paths = []\n",
    "\n",
    "Path = \"./data\"\n",
    "filelist = os.listdir(Path)\n",
    "for i in filelist:\n",
    "    if i.endswith(\".jpg\" or \".png\"):  # You could also add \"and i.startswith('f')\n",
    "        raw_photo_paths.append(\"./data/\" + i)\n",
    "\n",
    "raw_photo_paths"
   ]
  },
  {
   "cell_type": "code",
   "execution_count": 8,
   "id": "3c5ba293",
   "metadata": {},
   "outputs": [],
   "source": [
    "import skimage.io as io\n",
    "\n",
    "# shape-(Height, Width, Color)\n",
    "def vectorize_photo(path) :\n",
    "    image = io.imread(str(path))\n",
    "    if image.shape[-1] == 4:\n",
    "        # Image is RGBA, where A is alpha -> transparency\n",
    "        # Must make image RGB.\n",
    "        image = image[..., :-1]  # png -> RGB\n",
    "    \n",
    "    return image"
   ]
  },
  {
   "cell_type": "code",
   "execution_count": 9,
   "id": "86bd467c",
   "metadata": {},
   "outputs": [],
   "source": [
    "vectorized_images = []\n",
    "\n",
    "for photo_path in raw_photo_paths :\n",
    "    image = vectorize_photo(photo_path)\n",
    "    vectorized_images.append(image)"
   ]
  },
  {
   "cell_type": "code",
   "execution_count": 19,
   "id": "58e73e10",
   "metadata": {},
   "outputs": [],
   "source": [
    "from facenet_models import FacenetModel\n",
    "\n",
    "model = FacenetModel()"
   ]
  },
  {
   "cell_type": "code",
   "execution_count": 22,
   "id": "e21326e8",
   "metadata": {},
   "outputs": [],
   "source": [
    "class Profile() :\n",
    "    def __init__(self, name, descriptions):\n",
    "        self.name = name\n",
    "        self.descriptions = descriptions\n",
    "        \n",
    "    def data(self) :\n",
    "        return (self.name, self.descriptions)\n",
    "    \n",
    "    def add(self, description) :\n",
    "        self.descriptions.append(description)"
   ]
  },
  {
   "cell_type": "code",
   "execution_count": 21,
   "id": "19e7bfe4",
   "metadata": {},
   "outputs": [],
   "source": [
    "descriptions = []\n",
    "\n",
    "for image in vectorized_images :\n",
    "    # assumes ``pic`` is a numpy array of shape (R, C, 3) (RGB is the last dimension)\n",
    "    boxes, probabilities, landmarks = model.detect(image)\n",
    "    descriptions = model.compute_descriptors(image, boxes)"
   ]
  },
  {
   "cell_type": "code",
   "execution_count": 26,
   "id": "845c5d6e",
   "metadata": {},
   "outputs": [],
   "source": [
    "name = \"tom\"\n",
    "tom = Profile(name, descriptions)"
   ]
  },
  {
   "cell_type": "code",
   "execution_count": 31,
   "id": "d567c2cc",
   "metadata": {},
   "outputs": [
    {
     "data": {
      "text/plain": [
       "(512,)"
      ]
     },
     "execution_count": 31,
     "metadata": {},
     "output_type": "execute_result"
    }
   ],
   "source": [
    "name, descriptions = tom.data()\n",
    "descriptions[0].shape"
   ]
  }
 ],
 "metadata": {
  "kernelspec": {
   "display_name": "Python 3 (ipykernel)",
   "language": "python",
   "name": "python3"
  },
  "language_info": {
   "codemirror_mode": {
    "name": "ipython",
    "version": 3
   },
   "file_extension": ".py",
   "mimetype": "text/x-python",
   "name": "python",
   "nbconvert_exporter": "python",
   "pygments_lexer": "ipython3",
   "version": "3.8.13"
  }
 },
 "nbformat": 4,
 "nbformat_minor": 5
}
