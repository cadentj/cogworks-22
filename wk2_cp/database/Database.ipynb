{
 "cells": [
  {
   "cell_type": "code",
   "execution_count": 6,
   "id": "470a141e",
   "metadata": {},
   "outputs": [],
   "source": [
    "import numpy as np\n",
    "import mygrad as mg\n",
    "from mygrad import Tensor\n",
    "\n",
    "from noggin import create_plot\n",
    "import matplotlib.pyplot as plt\n",
    "\n",
    "%matplotlib notebook"
   ]
  },
  {
   "cell_type": "code",
   "execution_count": 7,
   "id": "d438f6a7",
   "metadata": {},
   "outputs": [
    {
     "data": {
      "text/plain": [
       "['./data/baldtom.jpg',\n",
       " './data/tom.jpg',\n",
       " './data/tom2.jpg',\n",
       " './data/tom3.jpg',\n",
       " './data/voguetom.jpg']"
      ]
     },
     "execution_count": 7,
     "metadata": {},
     "output_type": "execute_result"
    }
   ],
   "source": [
    "import os\n",
    "\n",
    "raw_photo_paths = []\n",
    "\n",
    "Path = \"./data\"\n",
    "filelist = os.listdir(Path)\n",
    "for i in filelist:\n",
    "    if i.endswith(\".jpg\" or \".png\"):  # You could also add \"and i.startswith('f')\n",
    "        raw_photo_paths.append(\"./data/\" + i)\n",
    "\n",
    "raw_photo_paths"
   ]
  },
  {
   "cell_type": "code",
   "execution_count": 8,
   "id": "b3340d6f",
   "metadata": {},
   "outputs": [],
   "source": [
    "import skimage.io as io\n",
    "\n",
    "# shape-(Height, Width, Color)\n",
    "def vectorize_photo(path) :\n",
    "    image = io.imread(str(path))\n",
    "    if image.shape[-1] == 4:\n",
    "        # Image is RGBA, where A is alpha -> transparency\n",
    "        # Must make image RGB.\n",
    "        image = image[..., :-1]  # png -> RGB\n",
    "    \n",
    "    return image"
   ]
  },
  {
   "cell_type": "code",
   "execution_count": 9,
   "id": "8969ea66",
   "metadata": {},
   "outputs": [],
   "source": [
    "vectorized_images = []\n",
    "\n",
    "for photo_path in raw_photo_paths :\n",
    "    image = vectorize_photo(photo_path)\n",
    "    vectorized_images.append(image)"
   ]
  },
  {
   "cell_type": "code",
   "execution_count": 19,
   "id": "7af17aac",
   "metadata": {},
   "outputs": [],
   "source": [
    "from facenet_models import FacenetModel\n",
    "\n",
    "model = FacenetModel()"
   ]
  },
  {
   "cell_type": "code",
   "execution_count": null,
   "id": "18677786",
   "metadata": {},
   "outputs": [],
   "source": [
    "# assumes ``pic`` is a numpy array of shape (R, C, 3) (RGB is the last dimension)\n",
    "boxes, probabilities, landmarks = model.detect(pic)"
   ]
  },
  {
   "cell_type": "code",
   "execution_count": 20,
   "id": "9d03dde6",
   "metadata": {},
   "outputs": [],
   "source": [
    "class Profile() :\n",
    "    def __init__(self, name, descriptions):\n",
    "        self.name = name\n",
    "        self.descriptions = descriptions\n",
    "        \n",
    "    def data(self) :\n",
    "        return (self.name, self.descriptions)\n",
    "    \n",
    "    def add(self, description) :\n",
    "        self.descriptions.append(descri)"
   ]
  }
 ],
 "metadata": {
  "kernelspec": {
   "display_name": "Python 3 (ipykernel)",
   "language": "python",
   "name": "python3"
  },
  "language_info": {
   "codemirror_mode": {
    "name": "ipython",
    "version": 3
   },
   "file_extension": ".py",
   "mimetype": "text/x-python",
   "name": "python",
   "nbconvert_exporter": "python",
   "pygments_lexer": "ipython3",
   "version": "3.8.13"
  }
 },
 "nbformat": 4,
 "nbformat_minor": 5
}
