{
 "cells": [
  {
   "cell_type": "code",
   "execution_count": 2,
   "id": "b5bb8448",
   "metadata": {},
   "outputs": [],
   "source": [
    "import numpy as np \n",
    "from collections import Counter \n",
    "\n",
    "node_list = []\n",
    "\n",
    "matrix = [[]]\n",
    "\n",
    "def whisper(graph, run_time):\n",
    "    \n",
    "    for i in range (run_time):\n",
    "        selected_node = math.random(len(node_list))\n",
    "        propagate_label(selected_node, adj_matrix)\n",
    "        \n",
    "\n",
    "def propagate_labels(node, neighbors, adj_matrix):\n",
    "    \n",
    "    c = {}\n",
    "    weights = [adj_matrix[node.id][i.id] for i in neighbors]\n",
    "    \n",
    "    for n in neighbors:\n",
    "        if n not in c:\n",
    "            c[n.label] = weights[n]\n",
    "        else:\n",
    "            c[n.label] += weights[n]\n",
    "    \n",
    "    count = Counter(c)\n",
    "    node.label = c.most_common()\n",
    "    \n",
    "    \n",
    "def connected_components(graph):\n",
    "    return ([graph[i]][i.neighbor_list] for i in range(len(graph)))\n",
    "    \n",
    "        "
   ]
  },
  {
   "cell_type": "code",
   "execution_count": null,
   "id": "3db6fd4d",
   "metadata": {},
   "outputs": [],
   "source": []
  }
 ],
 "metadata": {
  "kernelspec": {
   "display_name": "Python 3 (ipykernel)",
   "language": "python",
   "name": "python3"
  },
  "language_info": {
   "codemirror_mode": {
    "name": "ipython",
    "version": 3
   },
   "file_extension": ".py",
   "mimetype": "text/x-python",
   "name": "python",
   "nbconvert_exporter": "python",
   "pygments_lexer": "ipython3",
   "version": "3.8.13"
  }
 },
 "nbformat": 4,
 "nbformat_minor": 5
}
