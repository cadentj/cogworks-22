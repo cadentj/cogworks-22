{
 "cells": [
  {
   "cell_type": "code",
   "execution_count": null,
   "id": "b5bb8448",
   "metadata": {},
   "outputs": [],
   "source": [
    "import numpy as np \n",
    "\n",
    "node_list = []\n",
    "\n",
    "matrix = [][]\n",
    "\n",
    "def whisper(graph, run_time) :\n",
    "    \n",
    "    for i in range (run_time) :\n",
    "        selected_node = math.random(len(node_list))\n",
    "        propagate_label(selected_node, adj_matrix)\n",
    "        \n",
    "    \n",
    "    \n",
    "def propagate_label(node, adj_matrix) :\n",
    "    index = node.ID\n",
    "    row = adj_matrix[index]\n",
    "    \n",
    "    count = np.zeros(len(row))\n",
    "    \n",
    "    for n in row :\n",
    "        if (n.ID = 1) :\n",
    "            if node.label == n.label :\n",
    "                count[n.ID] += 1\n",
    "                \n",
    "    highest = np.argmax(count)\n",
    "    \n",
    "    node.label = row[highest].label\n",
    "    \n",
    "\n",
    "def connected_components(graph):\n",
    "    return ([graph[i]][i.neighbor_list] for i in range(len(graph)))\n",
    "    \n",
    "        "
   ]
  }
 ],
 "metadata": {
  "kernelspec": {
   "display_name": "Python 3 (ipykernel)",
   "language": "python",
   "name": "python3"
  },
  "language_info": {
   "codemirror_mode": {
    "name": "ipython",
    "version": 3
   },
   "file_extension": ".py",
   "mimetype": "text/x-python",
   "name": "python",
   "nbconvert_exporter": "python",
   "pygments_lexer": "ipython3",
   "version": "3.8.13"
  }
 },
 "nbformat": 4,
 "nbformat_minor": 5
}
