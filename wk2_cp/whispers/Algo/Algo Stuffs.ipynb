{
 "cells": [
  {
   "cell_type": "code",
   "execution_count": null,
   "id": "c93bc327",
   "metadata": {},
   "outputs": [],
   "source": [
    "import numpy as np \n",
    "\n",
    "def whisper(graph, run_time) :\n",
    "    \n",
    "    for i in range (run_time) :\n",
    "        selected_node = np.random.rand(0, len(graph))\n",
    "        propagate_label()\n",
    "        \n",
    "    \n",
    "    \n",
    "def propagate_label(node, adj_matrix) :\n",
    "    index = node.ID\n",
    "    row = adj_matrix[index]\n",
    "    \n",
    "    count = np.zeros(len(row))\n",
    "    \n",
    "    for n in row :\n",
    "        if (n.ID = 1) :\n",
    "            if node.descriptor == n.descriptor :\n",
    "                count[n.ID] += 1\n",
    "                \n",
    "    highest = np.argmax(count)\n",
    "    \n",
    "    node.descriptor = row[highest].descriptor\n",
    "    \n",
    "\n",
    "def connected_components() :\n",
    "    \n",
    "        "
   ]
  }
 ],
 "metadata": {
  "kernelspec": {
   "display_name": "Python 3 (ipykernel)",
   "language": "python",
   "name": "python3"
  },
  "language_info": {
   "codemirror_mode": {
    "name": "ipython",
    "version": 3
   },
   "file_extension": ".py",
   "mimetype": "text/x-python",
   "name": "python",
   "nbconvert_exporter": "python",
   "pygments_lexer": "ipython3",
   "version": "3.8.13"
  }
 },
 "nbformat": 4,
 "nbformat_minor": 5
}
