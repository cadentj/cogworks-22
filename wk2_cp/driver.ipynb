{
 "cells": [
  {
   "cell_type": "code",
   "execution_count": 1,
   "id": "0d02c182",
   "metadata": {},
   "outputs": [],
   "source": [
    "from face_module import proc, database"
   ]
  },
  {
   "cell_type": "code",
   "execution_count": 2,
   "id": "7949c5d6",
   "metadata": {},
   "outputs": [
    {
     "name": "stderr",
     "output_type": "stream",
     "text": [
      "c:\\anaconda3\\envs\\week2\\lib\\site-packages\\numpy\\lib\\npyio.py:518: VisibleDeprecationWarning: Creating an ndarray from ragged nested sequences (which is a list-or-tuple of lists-or-tuples-or ndarrays with different lengths or shapes) is deprecated. If you meant to do this, you must specify 'dtype=object' when creating the ndarray.\n",
      "  arr = np.asanyarray(arr)\n"
     ]
    }
   ],
   "source": [
    "# run this once \n",
    "\n",
    "names = [\"tom\", \"scarlet\", \"robert\"]\n",
    "\n",
    "for name in names : \n",
    "    proc(name)"
   ]
  },
  {
   "cell_type": "code",
   "execution_count": 3,
   "id": "56e82078",
   "metadata": {},
   "outputs": [],
   "source": [
    "db = database(names)"
   ]
  },
  {
   "cell_type": "code",
   "execution_count": 4,
   "id": "7da57243",
   "metadata": {},
   "outputs": [],
   "source": [
    "name, description = db[\"tom\"].data()"
   ]
  },
  {
   "cell_type": "code",
   "execution_count": 5,
   "id": "6782cbe7",
   "metadata": {},
   "outputs": [
    {
     "data": {
      "text/plain": [
       "(512,)"
      ]
     },
     "execution_count": 5,
     "metadata": {},
     "output_type": "execute_result"
    }
   ],
   "source": [
    "description[0].shape"
   ]
  }
 ],
 "metadata": {
  "kernelspec": {
   "display_name": "Python 3.8.13 ('week2')",
   "language": "python",
   "name": "python3"
  },
  "language_info": {
   "codemirror_mode": {
    "name": "ipython",
    "version": 3
   },
   "file_extension": ".py",
   "mimetype": "text/x-python",
   "name": "python",
   "nbconvert_exporter": "python",
   "pygments_lexer": "ipython3",
   "version": "3.8.13"
  },
  "vscode": {
   "interpreter": {
    "hash": "ad4db705492eb01fa80e7c1a972145acf78075d07a4389ce03788c60e416544e"
   }
  }
 },
 "nbformat": 4,
 "nbformat_minor": 5
}
